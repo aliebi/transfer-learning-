{
  "nbformat": 4,
  "nbformat_minor": 0,
  "metadata": {
    "colab": {
      "name": "Untitled11.ipynb",
      "version": "0.3.2",
      "provenance": [],
      "toc_visible": true,
      "include_colab_link": true
    },
    "kernelspec": {
      "name": "python3",
      "display_name": "Python 3"
    },
    "accelerator": "GPU"
  },
  "cells": [
    {
      "cell_type": "markdown",
      "metadata": {
        "id": "view-in-github",
        "colab_type": "text"
      },
      "source": [
        "<a href=\"https://colab.research.google.com/github/aliebi/transfer-learning-/blob/master/main.ipynb\" target=\"_parent\"><img src=\"https://colab.research.google.com/assets/colab-badge.svg\" alt=\"Open In Colab\"/></a>"
      ]
    },
    {
      "cell_type": "markdown",
      "metadata": {
        "id": "1_Ow_ogtsYtq",
        "colab_type": "text"
      },
      "source": [
        "# transfer learning \n",
        "in this kind of learning we use pretraind model for train network and we start by good values not a randomized value...."
      ]
    },
    {
      "cell_type": "code",
      "metadata": {
        "id": "T8z9AzwFFZU7",
        "colab_type": "code",
        "colab": {}
      },
      "source": [
        "import tensorflow as tf\n",
        "import tensorflow_hub as hub\n",
        "import numpy as np\n",
        "import pandas as pd"
      ],
      "execution_count": 0,
      "outputs": []
    },
    {
      "cell_type": "markdown",
      "metadata": {
        "id": "yFQKk3SazmF2",
        "colab_type": "text"
      },
      "source": [
        "we test is gpu available or not"
      ]
    },
    {
      "cell_type": "code",
      "metadata": {
        "id": "3ymTtWIvFcpg",
        "colab_type": "code",
        "outputId": "e8b968e4-9059-4d2d-d7ae-a07d80f7c19b",
        "colab": {
          "base_uri": "https://localhost:8080/",
          "height": 34
        }
      },
      "source": [
        "tf.test.is_gpu_available()"
      ],
      "execution_count": 2,
      "outputs": [
        {
          "output_type": "execute_result",
          "data": {
            "text/plain": [
              "True"
            ]
          },
          "metadata": {
            "tags": []
          },
          "execution_count": 2
        }
      ]
    },
    {
      "cell_type": "code",
      "metadata": {
        "id": "Rwtx3ywGKlXn",
        "colab_type": "code",
        "outputId": "79cc4db8-2fcc-40f4-d695-606f49f956d6",
        "colab": {
          "base_uri": "https://localhost:8080/",
          "height": 34
        }
      },
      "source": [
        " tf.test.gpu_device_name()"
      ],
      "execution_count": 3,
      "outputs": [
        {
          "output_type": "execute_result",
          "data": {
            "text/plain": [
              "'/device:GPU:0'"
            ]
          },
          "metadata": {
            "tags": []
          },
          "execution_count": 3
        }
      ]
    },
    {
      "cell_type": "code",
      "metadata": {
        "id": "8cP961mqKojy",
        "colab_type": "code",
        "outputId": "dc0a65d2-f2e1-485b-99ae-ed0e53130c25",
        "colab": {
          "base_uri": "https://localhost:8080/",
          "height": 134
        }
      },
      "source": [
        "dataset = pd.read_csv('/movie_reviews.csv')\n",
        "dataset.info()"
      ],
      "execution_count": 5,
      "outputs": [
        {
          "output_type": "stream",
          "text": [
            "<class 'pandas.core.frame.DataFrame'>\n",
            "RangeIndex: 50000 entries, 0 to 49999\n",
            "Data columns (total 2 columns):\n",
            "review       50000 non-null object\n",
            "sentiment    50000 non-null object\n",
            "dtypes: object(2)\n",
            "memory usage: 781.3+ KB\n"
          ],
          "name": "stdout"
        }
      ]
    },
    {
      "cell_type": "markdown",
      "metadata": {
        "id": "pqqQKhJ4MbcP",
        "colab_type": "text"
      },
      "source": [
        "convert target of each document to 1 for pos and 0 for neg"
      ]
    },
    {
      "cell_type": "code",
      "metadata": {
        "id": "JN789dfZMQg5",
        "colab_type": "code",
        "outputId": "6d7bfe64-6ad8-4a8f-f0df-66c18ff85f6f",
        "colab": {
          "base_uri": "https://localhost:8080/",
          "height": 195
        }
      },
      "source": [
        "dataset['sentiment'] = [1 if sentiment == 'positive' else 0 for sentiment in dataset['sentiment'].values]\n",
        "dataset.head()"
      ],
      "execution_count": 6,
      "outputs": [
        {
          "output_type": "execute_result",
          "data": {
            "text/html": [
              "<div>\n",
              "<style scoped>\n",
              "    .dataframe tbody tr th:only-of-type {\n",
              "        vertical-align: middle;\n",
              "    }\n",
              "\n",
              "    .dataframe tbody tr th {\n",
              "        vertical-align: top;\n",
              "    }\n",
              "\n",
              "    .dataframe thead th {\n",
              "        text-align: right;\n",
              "    }\n",
              "</style>\n",
              "<table border=\"1\" class=\"dataframe\">\n",
              "  <thead>\n",
              "    <tr style=\"text-align: right;\">\n",
              "      <th></th>\n",
              "      <th>review</th>\n",
              "      <th>sentiment</th>\n",
              "    </tr>\n",
              "  </thead>\n",
              "  <tbody>\n",
              "    <tr>\n",
              "      <th>0</th>\n",
              "      <td>One of the other reviewers has mentioned that ...</td>\n",
              "      <td>1</td>\n",
              "    </tr>\n",
              "    <tr>\n",
              "      <th>1</th>\n",
              "      <td>A wonderful little production. &lt;br /&gt;&lt;br /&gt;The...</td>\n",
              "      <td>1</td>\n",
              "    </tr>\n",
              "    <tr>\n",
              "      <th>2</th>\n",
              "      <td>I thought this was a wonderful way to spend ti...</td>\n",
              "      <td>1</td>\n",
              "    </tr>\n",
              "    <tr>\n",
              "      <th>3</th>\n",
              "      <td>Basically there's a family where a little boy ...</td>\n",
              "      <td>0</td>\n",
              "    </tr>\n",
              "    <tr>\n",
              "      <th>4</th>\n",
              "      <td>Petter Mattei's \"Love in the Time of Money\" is...</td>\n",
              "      <td>1</td>\n",
              "    </tr>\n",
              "  </tbody>\n",
              "</table>\n",
              "</div>"
            ],
            "text/plain": [
              "                                              review  sentiment\n",
              "0  One of the other reviewers has mentioned that ...          1\n",
              "1  A wonderful little production. <br /><br />The...          1\n",
              "2  I thought this was a wonderful way to spend ti...          1\n",
              "3  Basically there's a family where a little boy ...          0\n",
              "4  Petter Mattei's \"Love in the Time of Money\" is...          1"
            ]
          },
          "metadata": {
            "tags": []
          },
          "execution_count": 6
        }
      ]
    },
    {
      "cell_type": "markdown",
      "metadata": {
        "id": "azq5cWpKz2IQ",
        "colab_type": "text"
      },
      "source": [
        "divide dataset to test,train,development "
      ]
    },
    {
      "cell_type": "code",
      "metadata": {
        "id": "As4-ZnfFMT03",
        "colab_type": "code",
        "outputId": "2a87c721-7375-4cd0-8805-26fb4a0e8ae9",
        "colab": {
          "base_uri": "https://localhost:8080/",
          "height": 34
        }
      },
      "source": [
        "\n",
        "reviews = dataset['review'].values\n",
        "sentiments = dataset['sentiment'].values\n",
        "\n",
        "train_reviews = reviews[:30000]\n",
        "train_sentiments = sentiments[:30000]\n",
        "\n",
        "val_reviews = reviews[30000:35000]\n",
        "val_sentiments = sentiments[30000:35000]\n",
        "\n",
        "test_reviews = reviews[35000:]\n",
        "test_sentiments = sentiments[35000:]\n",
        "train_reviews.shape, val_reviews.shape, test_reviews.shape"
      ],
      "execution_count": 7,
      "outputs": [
        {
          "output_type": "execute_result",
          "data": {
            "text/plain": [
              "((30000,), (5000,), (15000,))"
            ]
          },
          "metadata": {
            "tags": []
          },
          "execution_count": 7
        }
      ]
    },
    {
      "cell_type": "code",
      "metadata": {
        "id": "ibRGeZ4pQHkq",
        "colab_type": "code",
        "outputId": "c170b01c-cf7c-444a-bbcf-fc8329cea9f8",
        "colab": {
          "base_uri": "https://localhost:8080/",
          "height": 373
        }
      },
      "source": [
        "!pip install contractions\n",
        "!pip install BeautifulSoup4\n",
        "!pip install textsearch "
      ],
      "execution_count": 8,
      "outputs": [
        {
          "output_type": "stream",
          "text": [
            "Collecting contractions\n",
            "  Downloading https://files.pythonhosted.org/packages/f5/2a/ba0a3812e2a1de2cc4ee0ded0bdb750a7cef1631c13c78a4fc4ab042adec/contractions-0.0.21-py2.py3-none-any.whl\n",
            "Installing collected packages: contractions\n",
            "Successfully installed contractions-0.0.21\n",
            "Requirement already satisfied: BeautifulSoup4 in /usr/local/lib/python3.6/dist-packages (4.6.3)\n",
            "Collecting textsearch\n",
            "  Downloading https://files.pythonhosted.org/packages/42/a8/03407021f9555043de5492a2bd7a35c56cc03c2510092b5ec018cae1bbf1/textsearch-0.0.17-py2.py3-none-any.whl\n",
            "Collecting pyahocorasick (from textsearch)\n",
            "\u001b[?25l  Downloading https://files.pythonhosted.org/packages/f4/9f/f0d8e8850e12829eea2e778f1c90e3c53a9a799b7f412082a5d21cd19ae1/pyahocorasick-1.4.0.tar.gz (312kB)\n",
            "\u001b[K     |████████████████████████████████| 317kB 6.6MB/s \n",
            "\u001b[?25hCollecting Unidecode (from textsearch)\n",
            "\u001b[?25l  Downloading https://files.pythonhosted.org/packages/d0/42/d9edfed04228bacea2d824904cae367ee9efd05e6cce7ceaaedd0b0ad964/Unidecode-1.1.1-py2.py3-none-any.whl (238kB)\n",
            "\u001b[K     |████████████████████████████████| 245kB 53.7MB/s \n",
            "\u001b[?25hBuilding wheels for collected packages: pyahocorasick\n",
            "  Building wheel for pyahocorasick (setup.py) ... \u001b[?25l\u001b[?25hdone\n",
            "  Created wheel for pyahocorasick: filename=pyahocorasick-1.4.0-cp36-cp36m-linux_x86_64.whl size=81708 sha256=7d309b9e17e2c076ad6483e7e14c472eb959e45b1b6ffb6aa3b0876cf75b6fc6\n",
            "  Stored in directory: /root/.cache/pip/wheels/0a/90/61/87a55f5b459792fbb2b7ba6b31721b06ff5cf6bde541b40994\n",
            "Successfully built pyahocorasick\n",
            "Installing collected packages: pyahocorasick, Unidecode, textsearch\n",
            "Successfully installed Unidecode-1.1.1 pyahocorasick-1.4.0 textsearch-0.0.17\n"
          ],
          "name": "stdout"
        }
      ]
    },
    {
      "cell_type": "markdown",
      "metadata": {
        "id": "txEzsoHqQfbX",
        "colab_type": "text"
      },
      "source": [
        "we should  preprocces data before start"
      ]
    },
    {
      "cell_type": "code",
      "metadata": {
        "id": "zSnl6h_AMjzw",
        "colab_type": "code",
        "colab": {}
      },
      "source": [
        "\n",
        "import contractions\n",
        "from bs4 import BeautifulSoup\n",
        "import unicodedata\n",
        "import re\n",
        "\n",
        "def strip_html_tags(text):\n",
        "    soup = BeautifulSoup(text, \"html.parser\")\n",
        "    [s.extract() for s in soup(['iframe', 'script'])]\n",
        "    stripped_text = soup.get_text()\n",
        "    stripped_text = re.sub(r'[\\r|\\n|\\r\\n]+', '\\n', stripped_text)\n",
        "    return stripped_text\n",
        "\n",
        "def remove_accented_chars(text):\n",
        "    text = unicodedata.normalize('NFKD', text).encode('ascii', 'ignore').decode('utf-8', 'ignore')\n",
        "    return text\n",
        "\n",
        "def expand_contractions(text):\n",
        "    return contractions.fix(text)\n",
        "\n",
        "def remove_special_characters(text, remove_digits=False):\n",
        "    pattern = r'[^a-zA-Z0-9\\s]' if not remove_digits else r'[^a-zA-Z\\s]'\n",
        "    text = re.sub(pattern, '', text)\n",
        "    return text\n",
        "\n",
        "def pre_process_document(document):\n",
        "    # strip HTML\n",
        "    document = strip_html_tags(document)\n",
        "    # lower case\n",
        "    document = document.lower()\n",
        "    # remove extra newlines (often might be present in really noisy text)\n",
        "    document = document.translate(document.maketrans(\"\\n\\t\\r\", \"   \"))\n",
        "    # remove accented characters\n",
        "    document = remove_accented_chars(document)\n",
        "    # expand contractions    \n",
        "    document = expand_contractions(document)  \n",
        "    # remove special characters and\\or digits    \n",
        "    # insert spaces between special characters to isolate them    \n",
        "    special_char_pattern = re.compile(r'([{.(-)!}])')\n",
        "    document = special_char_pattern.sub(\" \\\\1 \", document)\n",
        "    document = remove_special_characters(document, remove_digits=True)  \n",
        "    # remove extra whitespace\n",
        "    document = re.sub(' +', ' ', document)\n",
        "    document = document.strip()\n",
        "    \n",
        "    return document\n",
        "\n",
        "\n",
        "pre_process_corpus = np.vectorize(pre_process_document)"
      ],
      "execution_count": 0,
      "outputs": []
    },
    {
      "cell_type": "markdown",
      "metadata": {
        "id": "AGv_WhBhSpiE",
        "colab_type": "text"
      },
      "source": [
        "divide data to train,test,dev"
      ]
    },
    {
      "cell_type": "code",
      "metadata": {
        "id": "UkQYZivESlS9",
        "colab_type": "code",
        "colab": {}
      },
      "source": [
        "train_reviews = pre_process_corpus(train_reviews)\n",
        "val_reviews = pre_process_corpus(val_reviews)\n",
        "test_reviews = pre_process_corpus(test_reviews)"
      ],
      "execution_count": 0,
      "outputs": []
    },
    {
      "cell_type": "markdown",
      "metadata": {
        "id": "L_Ts40yX0fuY",
        "colab_type": "text"
      },
      "source": [
        "we should prepare data for give it to network..."
      ]
    },
    {
      "cell_type": "code",
      "metadata": {
        "id": "MmOqubVbTYE8",
        "colab_type": "code",
        "colab": {}
      },
      "source": [
        "# Training input on the whole training set with no limit on training epochs.\n",
        "train_input_fn = tf.estimator.inputs.numpy_input_fn(\n",
        "    {'sentence': train_reviews}, train_sentiments, \n",
        "    batch_size=256, num_epochs=None, shuffle=True)\n",
        "    \n",
        "# Prediction on the whole training set.\n",
        "predict_train_input_fn = tf.estimator.inputs.numpy_input_fn(\n",
        "    {'sentence': train_reviews}, train_sentiments, shuffle=False)\n",
        "    \n",
        "# Prediction on the whole validation set.\n",
        "predict_val_input_fn = tf.estimator.inputs.numpy_input_fn(\n",
        "    {'sentence': val_reviews}, val_sentiments, shuffle=False)\n",
        "    \n",
        "# Prediction on the test set.\n",
        "predict_test_input_fn = tf.estimator.inputs.numpy_input_fn(\n",
        "    {'sentence': test_reviews}, test_sentiments, shuffle=False)   "
      ],
      "execution_count": 0,
      "outputs": []
    },
    {
      "cell_type": "markdown",
      "metadata": {
        "id": "_nrwEwY30-t9",
        "colab_type": "text"
      },
      "source": [
        "now we find preprocces model for our network that embed sentences ,you can read more about it here :https://tfhub.dev/google/universal-sentence-encoder/2"
      ]
    },
    {
      "cell_type": "code",
      "metadata": {
        "id": "4dIlDly4TgJ8",
        "colab_type": "code",
        "colab": {}
      },
      "source": [
        "embedding_feature = hub.text_embedding_column(\n",
        "    key='sentence', \n",
        "    module_spec=\"https://tfhub.dev/google/universal-sentence-encoder/2\",\n",
        "    trainable=False)"
      ],
      "execution_count": 0,
      "outputs": []
    },
    {
      "cell_type": "markdown",
      "metadata": {
        "id": "9O-MRVhn1Suc",
        "colab_type": "text"
      },
      "source": [
        "define network architect"
      ]
    },
    {
      "cell_type": "code",
      "metadata": {
        "id": "19E9o31ZZHpf",
        "colab_type": "code",
        "colab": {
          "base_uri": "https://localhost:8080/",
          "height": 34
        },
        "outputId": "f0d3d427-7953-4e5c-c7fa-f3d13fb1e374"
      },
      "source": [
        "dnn = tf.estimator.DNNClassifier(\n",
        "          hidden_units=[512, 128],\n",
        "          feature_columns=[embedding_feature],\n",
        "          n_classes=2,\n",
        "          activation_fn=tf.nn.relu,\n",
        "          dropout=0.1,\n",
        "          optimizer=tf.train.AdagradOptimizer(learning_rate=0.005))"
      ],
      "execution_count": 15,
      "outputs": [
        {
          "output_type": "stream",
          "text": [
            "W0824 06:49:46.517555 140504106309504 estimator.py:1811] Using temporary folder as model directory: /tmp/tmpnso5a_qr\n"
          ],
          "name": "stderr"
        }
      ]
    },
    {
      "cell_type": "markdown",
      "metadata": {
        "id": "0j3Eya3o1m7j",
        "colab_type": "text"
      },
      "source": [
        "train model and test validation and train data on it "
      ]
    },
    {
      "cell_type": "code",
      "metadata": {
        "id": "UDQNmnxUY9z6",
        "colab_type": "code",
        "colab": {
          "base_uri": "https://localhost:8080/",
          "height": 1000
        },
        "outputId": "f3740d03-44a0-4ebb-ce78-32573730d89b"
      },
      "source": [
        "tf.logging.set_verbosity(tf.logging.ERROR)\n",
        "import time\n",
        "\n",
        "TOTAL_STEPS = 1500\n",
        "STEP_SIZE = 100\n",
        "for step in range(0, TOTAL_STEPS+1, STEP_SIZE):\n",
        "    print()\n",
        "    print('-'*100)\n",
        "    print('Training for step =', step)\n",
        "    start_time = time.time()\n",
        "    dnn.train(input_fn=train_input_fn, steps=STEP_SIZE)\n",
        "    elapsed_time = time.time() - start_time\n",
        "    print('Train Time (s):', elapsed_time)\n",
        "    print('Eval Metrics (Train):', dnn.evaluate(input_fn=predict_train_input_fn))\n",
        "    print('Eval Metrics (Validation):', dnn.evaluate(input_fn=predict_val_input_fn))"
      ],
      "execution_count": 16,
      "outputs": [
        {
          "output_type": "stream",
          "text": [
            "\n",
            "----------------------------------------------------------------------------------------------------\n",
            "Training for step = 0\n",
            "Train Time (s): 73.91745781898499\n",
            "Eval Metrics (Train): {'accuracy': 0.84936666, 'accuracy_baseline': 0.5005, 'auc': 0.9282317, 'auc_precision_recall': 0.9282601, 'average_loss': 0.34399882, 'label/mean': 0.5005, 'loss': 43.914745, 'precision': 0.8569582, 'prediction/mean': 0.4940594, 'recall': 0.8390942, 'global_step': 100}\n",
            "Eval Metrics (Validation): {'accuracy': 0.8454, 'accuracy_baseline': 0.505, 'auc': 0.9238464, 'auc_precision_recall': 0.9192813, 'average_loss': 0.3530658, 'label/mean': 0.495, 'loss': 44.133224, 'precision': 0.8401279, 'prediction/mean': 0.49856758, 'recall': 0.84929293, 'global_step': 100}\n",
            "\n",
            "----------------------------------------------------------------------------------------------------\n",
            "Training for step = 100\n",
            "Train Time (s): 69.49799346923828\n",
            "Eval Metrics (Train): {'accuracy': 0.85553336, 'accuracy_baseline': 0.5005, 'auc': 0.9326374, 'auc_precision_recall': 0.9329692, 'average_loss': 0.33197564, 'label/mean': 0.5005, 'loss': 42.37987, 'precision': 0.8535584, 'prediction/mean': 0.5060833, 'recall': 0.85867465, 'global_step': 200}\n",
            "Eval Metrics (Validation): {'accuracy': 0.8502, 'accuracy_baseline': 0.505, 'auc': 0.92775565, 'auc_precision_recall': 0.9240241, 'average_loss': 0.34364012, 'label/mean': 0.495, 'loss': 42.955013, 'precision': 0.8363211, 'prediction/mean': 0.5114017, 'recall': 0.86707073, 'global_step': 200}\n",
            "\n",
            "----------------------------------------------------------------------------------------------------\n",
            "Training for step = 200\n",
            "Train Time (s): 69.31358218193054\n",
            "Eval Metrics (Train): {'accuracy': 0.8542333, 'accuracy_baseline': 0.5005, 'auc': 0.9344008, 'auc_precision_recall': 0.934404, 'average_loss': 0.3324118, 'label/mean': 0.5005, 'loss': 42.435547, 'precision': 0.88368905, 'prediction/mean': 0.4682563, 'recall': 0.8161838, 'global_step': 300}\n",
            "Eval Metrics (Validation): {'accuracy': 0.8508, 'accuracy_baseline': 0.505, 'auc': 0.92894447, 'auc_precision_recall': 0.9246558, 'average_loss': 0.34255004, 'label/mean': 0.495, 'loss': 42.818756, 'precision': 0.8699187, 'prediction/mean': 0.4722352, 'recall': 0.8214141, 'global_step': 300}\n",
            "\n",
            "----------------------------------------------------------------------------------------------------\n",
            "Training for step = 300\n",
            "Train Time (s): 70.16992449760437\n",
            "Eval Metrics (Train): {'accuracy': 0.8583, 'accuracy_baseline': 0.5005, 'auc': 0.9360395, 'auc_precision_recall': 0.936115, 'average_loss': 0.32582745, 'label/mean': 0.5005, 'loss': 41.594994, 'precision': 0.8430648, 'prediction/mean': 0.5238287, 'recall': 0.88085246, 'global_step': 400}\n",
            "Eval Metrics (Validation): {'accuracy': 0.8478, 'accuracy_baseline': 0.505, 'auc': 0.92981946, 'auc_precision_recall': 0.9259118, 'average_loss': 0.34288257, 'label/mean': 0.495, 'loss': 42.86032, 'precision': 0.82097375, 'prediction/mean': 0.5290076, 'recall': 0.8856566, 'global_step': 400}\n",
            "\n",
            "----------------------------------------------------------------------------------------------------\n",
            "Training for step = 400\n",
            "Train Time (s): 68.6641116142273\n",
            "Eval Metrics (Train): {'accuracy': 0.85686666, 'accuracy_baseline': 0.5005, 'auc': 0.937667, 'auc_precision_recall': 0.9374905, 'average_loss': 0.32646936, 'label/mean': 0.5005, 'loss': 41.67694, 'precision': 0.8912488, 'prediction/mean': 0.46254528, 'recall': 0.8132534, 'global_step': 500}\n",
            "Eval Metrics (Validation): {'accuracy': 0.8516, 'accuracy_baseline': 0.505, 'auc': 0.9310302, 'auc_precision_recall': 0.9266701, 'average_loss': 0.33923465, 'label/mean': 0.495, 'loss': 42.40433, 'precision': 0.8717289, 'prediction/mean': 0.4665642, 'recall': 0.8210101, 'global_step': 500}\n",
            "\n",
            "----------------------------------------------------------------------------------------------------\n",
            "Training for step = 500\n",
            "Train Time (s): 68.197918176651\n",
            "Eval Metrics (Train): {'accuracy': 0.86256665, 'accuracy_baseline': 0.5005, 'auc': 0.93920034, 'auc_precision_recall': 0.939155, 'average_loss': 0.31639487, 'label/mean': 0.5005, 'loss': 40.39083, 'precision': 0.8535904, 'prediction/mean': 0.51456225, 'recall': 0.8755911, 'global_step': 600}\n",
            "Eval Metrics (Validation): {'accuracy': 0.855, 'accuracy_baseline': 0.505, 'auc': 0.93200433, 'auc_precision_recall': 0.92775893, 'average_loss': 0.3349314, 'label/mean': 0.495, 'loss': 41.866425, 'precision': 0.8383604, 'prediction/mean': 0.518412, 'recall': 0.8759596, 'global_step': 600}\n",
            "\n",
            "----------------------------------------------------------------------------------------------------\n",
            "Training for step = 600\n",
            "Train Time (s): 68.01198673248291\n",
            "Eval Metrics (Train): {'accuracy': 0.8617333, 'accuracy_baseline': 0.5005, 'auc': 0.94037074, 'auc_precision_recall': 0.94007677, 'average_loss': 0.3171021, 'label/mean': 0.5005, 'loss': 40.48112, 'precision': 0.88846785, 'prediction/mean': 0.47136846, 'recall': 0.82763904, 'global_step': 700}\n",
            "Eval Metrics (Validation): {'accuracy': 0.8532, 'accuracy_baseline': 0.505, 'auc': 0.9323766, 'auc_precision_recall': 0.92796165, 'average_loss': 0.33409536, 'label/mean': 0.495, 'loss': 41.76192, 'precision': 0.870268, 'prediction/mean': 0.4745773, 'recall': 0.82666665, 'global_step': 700}\n",
            "\n",
            "----------------------------------------------------------------------------------------------------\n",
            "Training for step = 700\n",
            "Train Time (s): 69.52703547477722\n",
            "Eval Metrics (Train): {'accuracy': 0.8660667, 'accuracy_baseline': 0.5005, 'auc': 0.94222635, 'auc_precision_recall': 0.94212604, 'average_loss': 0.31053755, 'label/mean': 0.5005, 'loss': 39.64309, 'precision': 0.8860493, 'prediction/mean': 0.4778046, 'recall': 0.84049284, 'global_step': 800}\n",
            "Eval Metrics (Validation): {'accuracy': 0.8566, 'accuracy_baseline': 0.505, 'auc': 0.93357986, 'auc_precision_recall': 0.92971534, 'average_loss': 0.32953265, 'label/mean': 0.495, 'loss': 41.19158, 'precision': 0.86442786, 'prediction/mean': 0.4817078, 'recall': 0.8424242, 'global_step': 800}\n",
            "\n",
            "----------------------------------------------------------------------------------------------------\n",
            "Training for step = 800\n",
            "Train Time (s): 68.05087852478027\n",
            "Eval Metrics (Train): {'accuracy': 0.8693, 'accuracy_baseline': 0.5005, 'auc': 0.94372797, 'auc_precision_recall': 0.94369036, 'average_loss': 0.30414632, 'label/mean': 0.5005, 'loss': 38.82719, 'precision': 0.87183267, 'prediction/mean': 0.49756452, 'recall': 0.86620045, 'global_step': 900}\n",
            "Eval Metrics (Validation): {'accuracy': 0.86, 'accuracy_baseline': 0.505, 'auc': 0.9346311, 'auc_precision_recall': 0.93091416, 'average_loss': 0.32616872, 'label/mean': 0.495, 'loss': 40.771088, 'precision': 0.85429144, 'prediction/mean': 0.501379, 'recall': 0.8646465, 'global_step': 900}\n",
            "\n",
            "----------------------------------------------------------------------------------------------------\n",
            "Training for step = 900\n",
            "Train Time (s): 69.88116550445557\n",
            "Eval Metrics (Train): {'accuracy': 0.87116665, 'accuracy_baseline': 0.5005, 'auc': 0.9450973, 'auc_precision_recall': 0.9448284, 'average_loss': 0.30148005, 'label/mean': 0.5005, 'loss': 38.486813, 'precision': 0.8602352, 'prediction/mean': 0.5164335, 'recall': 0.8866467, 'global_step': 1000}\n",
            "Eval Metrics (Validation): {'accuracy': 0.8606, 'accuracy_baseline': 0.505, 'auc': 0.93551224, 'auc_precision_recall': 0.9316155, 'average_loss': 0.32680064, 'label/mean': 0.495, 'loss': 40.850082, 'precision': 0.84166026, 'prediction/mean': 0.5199412, 'recall': 0.8848485, 'global_step': 1000}\n",
            "\n",
            "----------------------------------------------------------------------------------------------------\n",
            "Training for step = 1000\n",
            "Train Time (s): 68.6613941192627\n",
            "Eval Metrics (Train): {'accuracy': 0.8735, 'accuracy_baseline': 0.5005, 'auc': 0.9465569, 'auc_precision_recall': 0.94626147, 'average_loss': 0.29681846, 'label/mean': 0.5005, 'loss': 37.89172, 'precision': 0.8733528, 'prediction/mean': 0.50177777, 'recall': 0.8739927, 'global_step': 1100}\n",
            "Eval Metrics (Validation): {'accuracy': 0.862, 'accuracy_baseline': 0.505, 'auc': 0.9360138, 'auc_precision_recall': 0.9323548, 'average_loss': 0.32300317, 'label/mean': 0.495, 'loss': 40.375397, 'precision': 0.8534653, 'prediction/mean': 0.50542706, 'recall': 0.8707071, 'global_step': 1100}\n",
            "\n",
            "----------------------------------------------------------------------------------------------------\n",
            "Training for step = 1100\n",
            "Train Time (s): 68.3567385673523\n",
            "Eval Metrics (Train): {'accuracy': 0.8746333, 'accuracy_baseline': 0.5005, 'auc': 0.9476132, 'auc_precision_recall': 0.94730514, 'average_loss': 0.29342207, 'label/mean': 0.5005, 'loss': 37.458138, 'precision': 0.87968963, 'prediction/mean': 0.49481988, 'recall': 0.8682651, 'global_step': 1200}\n",
            "Eval Metrics (Validation): {'accuracy': 0.862, 'accuracy_baseline': 0.505, 'auc': 0.9365889, 'auc_precision_recall': 0.9326067, 'average_loss': 0.32137215, 'label/mean': 0.495, 'loss': 40.171516, 'precision': 0.8577154, 'prediction/mean': 0.49815282, 'recall': 0.8646465, 'global_step': 1200}\n",
            "\n",
            "----------------------------------------------------------------------------------------------------\n",
            "Training for step = 1200\n",
            "Train Time (s): 67.94522190093994\n",
            "Eval Metrics (Train): {'accuracy': 0.8755, 'accuracy_baseline': 0.5005, 'auc': 0.9487232, 'auc_precision_recall': 0.94850206, 'average_loss': 0.2907865, 'label/mean': 0.5005, 'loss': 37.12168, 'precision': 0.8696906, 'prediction/mean': 0.5094633, 'recall': 0.8836497, 'global_step': 1300}\n",
            "Eval Metrics (Validation): {'accuracy': 0.861, 'accuracy_baseline': 0.505, 'auc': 0.9368544, 'auc_precision_recall': 0.93296593, 'average_loss': 0.32206073, 'label/mean': 0.495, 'loss': 40.25759, 'precision': 0.8454969, 'prediction/mean': 0.5128638, 'recall': 0.88, 'global_step': 1300}\n",
            "\n",
            "----------------------------------------------------------------------------------------------------\n",
            "Training for step = 1300\n",
            "Train Time (s): 68.39115500450134\n",
            "Eval Metrics (Train): {'accuracy': 0.8759, 'accuracy_baseline': 0.5005, 'auc': 0.9498717, 'auc_precision_recall': 0.94955564, 'average_loss': 0.28897423, 'label/mean': 0.5005, 'loss': 36.890327, 'precision': 0.8921378, 'prediction/mean': 0.48207435, 'recall': 0.85547787, 'global_step': 1400}\n",
            "Eval Metrics (Validation): {'accuracy': 0.8598, 'accuracy_baseline': 0.505, 'auc': 0.93740046, 'auc_precision_recall': 0.93339664, 'average_loss': 0.31977743, 'label/mean': 0.495, 'loss': 39.97218, 'precision': 0.8647204, 'prediction/mean': 0.48531753, 'recall': 0.849697, 'global_step': 1400}\n",
            "\n",
            "----------------------------------------------------------------------------------------------------\n",
            "Training for step = 1400\n",
            "Train Time (s): 70.70622038841248\n",
            "Eval Metrics (Train): {'accuracy': 0.8789667, 'accuracy_baseline': 0.5005, 'auc': 0.9507913, 'auc_precision_recall': 0.9506775, 'average_loss': 0.2874357, 'label/mean': 0.5005, 'loss': 36.69392, 'precision': 0.8628251, 'prediction/mean': 0.5237597, 'recall': 0.9014985, 'global_step': 1500}\n",
            "Eval Metrics (Validation): {'accuracy': 0.8618, 'accuracy_baseline': 0.505, 'auc': 0.9373964, 'auc_precision_recall': 0.93399584, 'average_loss': 0.32466903, 'label/mean': 0.495, 'loss': 40.58363, 'precision': 0.83533835, 'prediction/mean': 0.5276027, 'recall': 0.8977778, 'global_step': 1500}\n",
            "\n",
            "----------------------------------------------------------------------------------------------------\n",
            "Training for step = 1500\n",
            "Train Time (s): 69.7845048904419\n",
            "Eval Metrics (Train): {'accuracy': 0.8809, 'accuracy_baseline': 0.5005, 'auc': 0.9520035, 'auc_precision_recall': 0.9516762, 'average_loss': 0.281948, 'label/mean': 0.5005, 'loss': 35.993362, 'precision': 0.8895547, 'prediction/mean': 0.48989645, 'recall': 0.87006325, 'global_step': 1600}\n",
            "Eval Metrics (Validation): {'accuracy': 0.8606, 'accuracy_baseline': 0.505, 'auc': 0.9377536, 'auc_precision_recall': 0.9344737, 'average_loss': 0.31860825, 'label/mean': 0.495, 'loss': 39.82603, 'precision': 0.85846776, 'prediction/mean': 0.49350765, 'recall': 0.860202, 'global_step': 1600}\n"
          ],
          "name": "stdout"
        }
      ]
    },
    {
      "cell_type": "markdown",
      "metadata": {
        "id": "VArOYzrK1vG7",
        "colab_type": "text"
      },
      "source": [
        "final result "
      ]
    },
    {
      "cell_type": "code",
      "metadata": {
        "id": "ZOwi8dR9hzyZ",
        "colab_type": "code",
        "colab": {
          "base_uri": "https://localhost:8080/",
          "height": 202
        },
        "outputId": "3a640e0c-fb71-4b2d-9ffe-f098299869a5"
      },
      "source": [
        "dnn.evaluate(input_fn=predict_train_input_fn)"
      ],
      "execution_count": 17,
      "outputs": [
        {
          "output_type": "execute_result",
          "data": {
            "text/plain": [
              "{'accuracy': 0.8809,\n",
              " 'accuracy_baseline': 0.5005,\n",
              " 'auc': 0.9520035,\n",
              " 'auc_precision_recall': 0.9516762,\n",
              " 'average_loss': 0.281948,\n",
              " 'global_step': 1600,\n",
              " 'label/mean': 0.5005,\n",
              " 'loss': 35.993362,\n",
              " 'precision': 0.8895547,\n",
              " 'prediction/mean': 0.48989645,\n",
              " 'recall': 0.87006325}"
            ]
          },
          "metadata": {
            "tags": []
          },
          "execution_count": 17
        }
      ]
    },
    {
      "cell_type": "code",
      "metadata": {
        "id": "cpnnv9y4h4nF",
        "colab_type": "code",
        "colab": {
          "base_uri": "https://localhost:8080/",
          "height": 202
        },
        "outputId": "e7393679-5f9f-4cdd-babf-1ec0c343995a"
      },
      "source": [
        "dnn.evaluate(input_fn=predict_test_input_fn)"
      ],
      "execution_count": 18,
      "outputs": [
        {
          "output_type": "execute_result",
          "data": {
            "text/plain": [
              "{'accuracy': 0.8670667,\n",
              " 'accuracy_baseline': 0.5006667,\n",
              " 'auc': 0.9410504,\n",
              " 'auc_precision_recall': 0.9404416,\n",
              " 'average_loss': 0.3109898,\n",
              " 'global_step': 1600,\n",
              " 'label/mean': 0.5006667,\n",
              " 'loss': 39.532604,\n",
              " 'precision': 0.87472826,\n",
              " 'prediction/mean': 0.49171963,\n",
              " 'recall': 0.857257}"
            ]
          },
          "metadata": {
            "tags": []
          },
          "execution_count": 18
        }
      ]
    }
  ]
}